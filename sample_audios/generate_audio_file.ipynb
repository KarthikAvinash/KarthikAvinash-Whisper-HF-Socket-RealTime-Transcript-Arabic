{
 "cells": [
  {
   "cell_type": "code",
   "execution_count": 2,
   "metadata": {},
   "outputs": [
    {
     "name": "stdout",
     "output_type": "stream",
     "text": [
      "Audio saved as one_min.wav\n"
     ]
    }
   ],
   "source": [
    "from gtts import gTTS\n",
    "import os\n",
    "\n",
    "# Arabic text\n",
    "text = \"إن الهند، أرض التراث الثقافي الغني والتقاليد المتنوعة، تقف كمنارة للتاريخ والتقدم. من جبال الهيمالايا المهيبة في الشمال إلى المناطق النائية الهادئة في ولاية كيرالا في الجنوب، تتنوع المناظر الطبيعية في الهند مثل سكانها. تعتبر الهند موطنًا لأكثر من مليار شخص، وهي بوتقة تنصهر فيها الأديان واللغات والعادات التي تتعايش في وئام. لقد أعطت حضاراتها القديمة للعالم مساهمات لا مثيل لها في العلوم والرياضيات والفلسفة، في حين أن التقدم الحديث في التكنولوجيا واستكشاف الفضاء لا يزال مثيرًا للإعجاب. إن الديمقراطية النابضة بالحياة في الهند، والأسواق الصاخبة، والشباب الديناميكي، تجسد روح المرونة والابتكار.\"\n",
    "# Convert text to speech\n",
    "tts = gTTS(text=text, lang='ar')\n",
    "\n",
    "# Save the audio file\n",
    "audio_file = \"one_min.wav\"\n",
    "tts.save(audio_file)\n",
    "\n",
    "print(f\"Audio saved as {audio_file}\")"
   ]
  },
  {
   "cell_type": "code",
   "execution_count": null,
   "metadata": {},
   "outputs": [],
   "source": []
  }
 ],
 "metadata": {
  "kernelspec": {
   "display_name": "Python 3",
   "language": "python",
   "name": "python3"
  },
  "language_info": {
   "codemirror_mode": {
    "name": "ipython",
    "version": 3
   },
   "file_extension": ".py",
   "mimetype": "text/x-python",
   "name": "python",
   "nbconvert_exporter": "python",
   "pygments_lexer": "ipython3",
   "version": "3.12.3"
  }
 },
 "nbformat": 4,
 "nbformat_minor": 2
}
