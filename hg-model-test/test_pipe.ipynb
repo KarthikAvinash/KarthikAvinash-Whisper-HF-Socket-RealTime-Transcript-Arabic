{
 "cells": [
  {
   "cell_type": "code",
   "execution_count": 1,
   "metadata": {},
   "outputs": [
    {
     "name": "stderr",
     "output_type": "stream",
     "text": [
      "c:\\Users\\Karthik Avinash\\AppData\\Local\\Programs\\Python\\Python312\\Lib\\site-packages\\tqdm\\auto.py:21: TqdmWarning: IProgress not found. Please update jupyter and ipywidgets. See https://ipywidgets.readthedocs.io/en/stable/user_install.html\n",
      "  from .autonotebook import tqdm as notebook_tqdm\n"
     ]
    }
   ],
   "source": [
    "from transformers import pipeline\n",
    "import librosa\n",
    "import numpy as np\n",
    "\n",
    "# Initialize the pipeline\n",
    "# pipe = pipeline(\"automatic-speech-recognition\", model=\"Seyfelislem/whisper-medium-arabic\")"
   ]
  },
  {
   "cell_type": "code",
   "execution_count": 2,
   "metadata": {},
   "outputs": [
    {
     "name": "stdout",
     "output_type": "stream",
     "text": [
      "WARNING:tensorflow:From c:\\Users\\Karthik Avinash\\AppData\\Local\\Programs\\Python\\Python312\\Lib\\site-packages\\tf_keras\\src\\losses.py:2976: The name tf.losses.sparse_softmax_cross_entropy is deprecated. Please use tf.compat.v1.losses.sparse_softmax_cross_entropy instead.\n",
      "\n"
     ]
    },
    {
     "name": "stderr",
     "output_type": "stream",
     "text": [
      "c:\\Users\\Karthik Avinash\\AppData\\Local\\Programs\\Python\\Python312\\Lib\\site-packages\\huggingface_hub\\file_download.py:157: UserWarning: `huggingface_hub` cache-system uses symlinks by default to efficiently store duplicated files but your machine does not support them in C:\\Users\\Karthik Avinash\\.cache\\huggingface\\hub\\models--KarthikAvinash--whisper-small-ar. Caching files will still work but in a degraded version that might require more space on your disk. This warning can be disabled by setting the `HF_HUB_DISABLE_SYMLINKS_WARNING` environment variable. For more details, see https://huggingface.co/docs/huggingface_hub/how-to-cache#limitations.\n",
      "To support symlinks on Windows, you either need to activate Developer Mode or to run Python as an administrator. In order to see activate developer mode, see this article: https://docs.microsoft.com/en-us/windows/apps/get-started/enable-your-device-for-development\n",
      "  warnings.warn(message)\n",
      "Special tokens have been added in the vocabulary, make sure the associated word embeddings are fine-tuned or trained.\n",
      "Special tokens have been added in the vocabulary, make sure the associated word embeddings are fine-tuned or trained.\n"
     ]
    }
   ],
   "source": [
    "pipe = pipeline(\"automatic-speech-recognition\", model=\"KarthikAvinash/whisper-small-ar\")"
   ]
  },
  {
   "cell_type": "code",
   "execution_count": 4,
   "metadata": {},
   "outputs": [
    {
     "name": "stderr",
     "output_type": "stream",
     "text": [
      "c:\\Users\\Karthik Avinash\\AppData\\Local\\Programs\\Python\\Python312\\Lib\\site-packages\\transformers\\models\\whisper\\generation_whisper.py:480: FutureWarning: The input name `inputs` is deprecated. Please make sure to use `input_features` instead.\n",
      "  warnings.warn(\n",
      "You have passed task=transcribe, but also have set `forced_decoder_ids` to [[1, 50259], [2, 50359], [3, 50363]] which creates a conflict. `forced_decoder_ids` will be ignored in favor of task=transcribe.\n",
      "The attention mask is not set and cannot be inferred from input because pad token is same as eos token.As a consequence, you may observe unexpected behavior. Please pass your input's `attention_mask` to obtain reliable results.\n"
     ]
    },
    {
     "name": "stdout",
     "output_type": "stream",
     "text": [
      "Transcription: إن الهنّ أرض التراث الثقافي الغني والتقاليد المتنوعة تقفوك منارة للتاريخ والتقدم من جبال الهما لاية المهيبة في الشمال إلى المناطق النائية الهادئة في ولاية كرالا في الجنوب. تتنوع المنظر الطبيعية في الهند مثل سكانها. تعتبر الهند موتناً لأكثر من مليار شخص. وهي بطقة تنصهر فيها الأديان واللغات والعادات التي تتعايا شوفي وآمن. لقد أعطت حضاراتها القديمة للعالم مسهماً لا مثيلة لها في العلوم والرياضيات والفلسفة.في حين أن التقدم الحديثة في التكنولوجيا واستكشاف الفضائي لا يزال مثيرا للأعجاب.إن الدموقراطية النبضة بالحياة في الهن والأسواق الصاخبة والشباب الدينميكي تجسد روح المرونة والابتكاري.\n"
     ]
    }
   ],
   "source": [
    "# Load the audio file\n",
    "audio_path = \"../sample_audios/one_min.wav\"\n",
    "audio_array, sampling_rate = librosa.load(audio_path, sr=16000)\n",
    "\n",
    "# Ensure the audio is mono\n",
    "if len(audio_array.shape) > 1:\n",
    "    audio_array = np.mean(audio_array, axis=1)\n",
    "\n",
    "# Transcribe the audio\n",
    "result = pipe(audio_array)\n",
    "\n",
    "print(f\"Transcription: {result['text']}\")"
   ]
  },
  {
   "cell_type": "code",
   "execution_count": null,
   "metadata": {},
   "outputs": [],
   "source": []
  }
 ],
 "metadata": {
  "kernelspec": {
   "display_name": "Python 3",
   "language": "python",
   "name": "python3"
  },
  "language_info": {
   "codemirror_mode": {
    "name": "ipython",
    "version": 3
   },
   "file_extension": ".py",
   "mimetype": "text/x-python",
   "name": "python",
   "nbconvert_exporter": "python",
   "pygments_lexer": "ipython3",
   "version": "3.12.3"
  }
 },
 "nbformat": 4,
 "nbformat_minor": 2
}
