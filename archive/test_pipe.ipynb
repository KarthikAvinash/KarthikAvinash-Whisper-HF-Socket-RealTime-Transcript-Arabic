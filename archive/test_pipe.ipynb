{
 "cells": [
  {
   "cell_type": "code",
   "execution_count": 1,
   "metadata": {},
   "outputs": [
    {
     "name": "stderr",
     "output_type": "stream",
     "text": [
      "c:\\Users\\Karthik Avinash\\AppData\\Local\\Programs\\Python\\Python312\\Lib\\site-packages\\tqdm\\auto.py:21: TqdmWarning: IProgress not found. Please update jupyter and ipywidgets. See https://ipywidgets.readthedocs.io/en/stable/user_install.html\n",
      "  from .autonotebook import tqdm as notebook_tqdm\n"
     ]
    },
    {
     "name": "stdout",
     "output_type": "stream",
     "text": [
      "WARNING:tensorflow:From c:\\Users\\Karthik Avinash\\AppData\\Local\\Programs\\Python\\Python312\\Lib\\site-packages\\tf_keras\\src\\losses.py:2976: The name tf.losses.sparse_softmax_cross_entropy is deprecated. Please use tf.compat.v1.losses.sparse_softmax_cross_entropy instead.\n",
      "\n"
     ]
    },
    {
     "name": "stderr",
     "output_type": "stream",
     "text": [
      "Special tokens have been added in the vocabulary, make sure the associated word embeddings are fine-tuned or trained.\n",
      "Special tokens have been added in the vocabulary, make sure the associated word embeddings are fine-tuned or trained.\n"
     ]
    }
   ],
   "source": [
    "from transformers import pipeline\n",
    "import librosa\n",
    "import numpy as np\n",
    "\n",
    "# Initialize the pipeline\n",
    "pipe = pipeline(\"automatic-speech-recognition\", model=\"Seyfelislem/whisper-medium-arabic\")"
   ]
  },
  {
   "cell_type": "code",
   "execution_count": 2,
   "metadata": {},
   "outputs": [
    {
     "name": "stderr",
     "output_type": "stream",
     "text": [
      "c:\\Users\\Karthik Avinash\\AppData\\Local\\Programs\\Python\\Python312\\Lib\\site-packages\\transformers\\models\\whisper\\generation_whisper.py:480: FutureWarning: The input name `inputs` is deprecated. Please make sure to use `input_features` instead.\n",
      "  warnings.warn(\n",
      "Due to a bug fix in https://github.com/huggingface/transformers/pull/28687 transcription using a multilingual Whisper will default to language detection followed by transcription instead of translation to English.This might be a breaking change for your use case. If you want to instead always translate your audio to English, make sure to pass `language='en'`.\n"
     ]
    },
    {
     "name": "stdout",
     "output_type": "stream",
     "text": [
      "Transcription: إن الهند أرض التراث الثقافي الغني والتقاليد المتنوعة تقف كمنارة للتاريخ والتقدم من جبال الهمالية المهيبة في الشمال إلى المناطق النائية الهادئة في ولاية كيرالا في الجنوبتتنوع المناظر الطبيعية في الهند مثل سكانها  تعتبر الهند موطنا لأكثر من مليار شخصا  وهي بوتقة تنصهر فيها الأديان واللغات والعادات التي تتعايش في وئام  لقد أعطت حضاراتها القديمة للعالم مساهمة لا مثيل لها في العلوم والرياضيات والفلسفة  في حين أن التقدم الحديثالدديث في التكنولوجيا واستكشاف الفضائي لا يزال مثيرا للإعجابإن الديمقراطية نابضة بالحياة في الهند  والأسواق الصاخبة  والشباب الديناميكي تجسد روح المرونة والابتكار\n"
     ]
    }
   ],
   "source": [
    "# Load the audio file\n",
    "audio_path = \"../one_min.wav\"\n",
    "audio_array, sampling_rate = librosa.load(audio_path, sr=16000)\n",
    "\n",
    "# Ensure the audio is mono\n",
    "if len(audio_array.shape) > 1:\n",
    "    audio_array = np.mean(audio_array, axis=1)\n",
    "\n",
    "# Transcribe the audio\n",
    "result = pipe(audio_array)\n",
    "\n",
    "print(f\"Transcription: {result['text']}\")"
   ]
  },
  {
   "cell_type": "code",
   "execution_count": null,
   "metadata": {},
   "outputs": [],
   "source": []
  }
 ],
 "metadata": {
  "kernelspec": {
   "display_name": "Python 3",
   "language": "python",
   "name": "python3"
  },
  "language_info": {
   "codemirror_mode": {
    "name": "ipython",
    "version": 3
   },
   "file_extension": ".py",
   "mimetype": "text/x-python",
   "name": "python",
   "nbconvert_exporter": "python",
   "pygments_lexer": "ipython3",
   "version": "3.12.3"
  }
 },
 "nbformat": 4,
 "nbformat_minor": 2
}
